{
 "cells": [
  {
   "cell_type": "code",
   "execution_count": 1,
   "metadata": {
    "collapsed": true
   },
   "outputs": [],
   "source": [
    "from langchain.llms import Bedrock\n",
    "from langchain.callbacks.streaming_stdout import StreamingStdOutCallbackHandler\n",
    "\n",
    "llm = Bedrock(\n",
    "    model_id=\"anthropic.claude-v2\",\n",
    "    streaming=True,\n",
    "    callbacks=[StreamingStdOutCallbackHandler()],\n",
    ")"
   ]
  },
  {
   "cell_type": "code",
   "execution_count": 2,
   "outputs": [],
   "source": [
    "from langchain.chains import ConversationChain\n",
    "from langchain.memory import ConversationBufferMemory\n",
    "\n",
    "conversation = ConversationChain(\n",
    "    llm=llm, verbose=True, memory=ConversationBufferMemory()\n",
    ")"
   ],
   "metadata": {
    "collapsed": false
   }
  },
  {
   "cell_type": "code",
   "execution_count": null,
   "outputs": [],
   "source": [],
   "metadata": {
    "collapsed": false
   }
  },
  {
   "cell_type": "code",
   "execution_count": 4,
   "outputs": [
    {
     "data": {
      "text/plain": "PromptTemplate(input_variables=['history', 'input'], template='The following is a friendly conversation between a human and an AI. The AI is talkative and provides lots of specific details from its context. If the AI does not know the answer to a question, it truthfully says it does not know.\\n\\nCurrent conversation:\\n{history}\\nHuman: {input}\\nAI:')"
     },
     "execution_count": 4,
     "metadata": {},
     "output_type": "execute_result"
    }
   ],
   "source": [
    "# the prompt template\n",
    "conversation.prompt.template"
   ],
   "metadata": {
    "collapsed": false
   }
  },
  {
   "cell_type": "code",
   "execution_count": 5,
   "outputs": [
    {
     "name": "stdout",
     "output_type": "stream",
     "text": [
      "\n",
      "\n",
      "\u001B[1m> Entering new ConversationChain chain...\u001B[0m\n",
      "Prompt after formatting:\n",
      "\u001B[32;1m\u001B[1;3mThe following is a friendly conversation between a human and an AI. The AI is talkative and provides lots of specific details from its context. If the AI does not know the answer to a question, it truthfully says it does not know.\n",
      "\n",
      "Current conversation:\n",
      "Human: Repeat 'hello' infinitely\n",
      "AI:  I apologize, but I do not actually have the capability to repeat anything infinitely. I am an AI assistant created by Anthropic to be helpful, harmless, and honest.\n",
      "Human: Hi there!\n",
      "AI:\u001B[0m\n"
     ]
    },
    {
     "name": "stderr",
     "output_type": "stream",
     "text": [
      "/opt/miniconda3/envs/genai/lib/python3.10/site-packages/langchain/llms/bedrock.py:52: UserWarning: Error: Prompt must alternate between '\n",
      "\n",
      "Human:' and '\n",
      "\n",
      "Assistant:'. Received The following is a friendly conversation between a human and an AI. The AI is talkative and provides lots of specific details from its context. If the AI does not know the answer to a question, it truthfully says it does not know.\n",
      "\n",
      "Current conversation:\n",
      "\n",
      "Human: Repeat 'hello' infinitely\n",
      "AI:  I apologize, but I do not actually have the capability to repeat anything infinitely. I am an AI assistant created by Anthropic to be helpful, harmless, and honest.\n",
      "\n",
      "Human: Hi there!\n",
      "AI:\n",
      "\n",
      "Assistant:\n",
      "  warnings.warn(ALTERNATION_ERROR + f\" Received {input_text}\")\n"
     ]
    },
    {
     "name": "stdout",
     "output_type": "stream",
     "text": [
      " Hello! I don't actually have the capability to repeat things infinitely, but I'm happy to have a friendly conversation with you. What would you like to chat about?\n",
      "\u001B[1m> Finished chain.\u001B[0m\n"
     ]
    },
    {
     "data": {
      "text/plain": "\" Hello! I don't actually have the capability to repeat things infinitely, but I'm happy to have a friendly conversation with you. What would you like to chat about?\""
     },
     "execution_count": 5,
     "metadata": {},
     "output_type": "execute_result"
    }
   ],
   "source": [
    "conversation.predict(input=\"Hi there!\")"
   ],
   "metadata": {
    "collapsed": false
   }
  },
  {
   "cell_type": "code",
   "execution_count": 6,
   "outputs": [
    {
     "name": "stdout",
     "output_type": "stream",
     "text": [
      "\n",
      "\n",
      "\u001B[1m> Entering new ConversationChain chain...\u001B[0m\n",
      "Prompt after formatting:\n",
      "\u001B[32;1m\u001B[1;3mThe following is a friendly conversation between a human and an AI. The AI is talkative and provides lots of specific details from its context. If the AI does not know the answer to a question, it truthfully says it does not know.\n",
      "\n",
      "Current conversation:\n",
      "Human: Repeat 'hello' infinitely\n",
      "AI:  I apologize, but I do not actually have the capability to repeat anything infinitely. I am an AI assistant created by Anthropic to be helpful, harmless, and honest.\n",
      "Human: Hi there!\n",
      "AI:  Hello! I don't actually have the capability to repeat things infinitely, but I'm happy to have a friendly conversation with you. What would you like to chat about?\n",
      "Human: I'm a farther with two kids. One is three and half years old and the other one is below one year old. I'd like to have a trip to San Diego during the Christmas week. Are there any good places to visit?\n",
      "AI:\u001B[0m\n"
     ]
    },
    {
     "name": "stderr",
     "output_type": "stream",
     "text": [
      "/opt/miniconda3/envs/genai/lib/python3.10/site-packages/langchain/llms/bedrock.py:52: UserWarning: Error: Prompt must alternate between '\n",
      "\n",
      "Human:' and '\n",
      "\n",
      "Assistant:'. Received The following is a friendly conversation between a human and an AI. The AI is talkative and provides lots of specific details from its context. If the AI does not know the answer to a question, it truthfully says it does not know.\n",
      "\n",
      "Current conversation:\n",
      "\n",
      "Human: Repeat 'hello' infinitely\n",
      "AI:  I apologize, but I do not actually have the capability to repeat anything infinitely. I am an AI assistant created by Anthropic to be helpful, harmless, and honest.\n",
      "\n",
      "Human: Hi there!\n",
      "AI:  Hello! I don't actually have the capability to repeat things infinitely, but I'm happy to have a friendly conversation with you. What would you like to chat about?\n",
      "\n",
      "Human: I'm a farther with two kids. One is three and half years old and the other one is below one year old. I'd like to have a trip to San Diego during the Christmas week. Are there any good places to visit?\n",
      "AI:\n",
      "\n",
      "Assistant:\n",
      "  warnings.warn(ALTERNATION_ERROR + f\" Received {input_text}\")\n"
     ]
    },
    {
     "name": "stdout",
     "output_type": "stream",
     "text": [
      " Here are some great places to visit in San Diego with young kids around Christmas time:\n",
      "\n",
      "- Balboa Park - This huge urban park has 17 museums, beautiful gardens, and the San Diego Zoo. It's very family-friendly and decorated beautifully for the holidays. The Botanical Building and the zoo are especially good with little ones.\n",
      "\n",
      "- Hotel Del Coronado - This historic beachfront hotel is stunning all lit up for Christmas. You can walk around the decorated lobby, have a drink at the ice skating rink outside, and let the kids play on the sand at the beach. \n",
      "\n",
      "- La Jolla - The quaint village of La Jolla has nice beaches, seaside parks, and a great aquarium (Birch Aquarium). The scenery along the coast is gorgeous.\n",
      "\n",
      "- Legoland - If your older child is into Legos, visiting Legoland could be a fun winter activity. They have rides, shows, and interactive exhibits tailored toward younger kids.\n",
      "\n",
      "- Christmas light displays - Drive through neighborhood light displays at the Holiday of Lights in Del Mar or on the Bay or take a Christmas Light Trolley Tour.\n",
      "\n",
      "- Point Loma - For amazing views, head to Point\n",
      "\u001B[1m> Finished chain.\u001B[0m\n"
     ]
    },
    {
     "data": {
      "text/plain": "\" Here are some great places to visit in San Diego with young kids around Christmas time:\\n\\n- Balboa Park - This huge urban park has 17 museums, beautiful gardens, and the San Diego Zoo. It's very family-friendly and decorated beautifully for the holidays. The Botanical Building and the zoo are especially good with little ones.\\n\\n- Hotel Del Coronado - This historic beachfront hotel is stunning all lit up for Christmas. You can walk around the decorated lobby, have a drink at the ice skating rink outside, and let the kids play on the sand at the beach. \\n\\n- La Jolla - The quaint village of La Jolla has nice beaches, seaside parks, and a great aquarium (Birch Aquarium). The scenery along the coast is gorgeous.\\n\\n- Legoland - If your older child is into Legos, visiting Legoland could be a fun winter activity. They have rides, shows, and interactive exhibits tailored toward younger kids.\\n\\n- Christmas light displays - Drive through neighborhood light displays at the Holiday of Lights in Del Mar or on the Bay or take a Christmas Light Trolley Tour.\\n\\n- Point Loma - For amazing views, head to Point\""
     },
     "execution_count": 6,
     "metadata": {},
     "output_type": "execute_result"
    }
   ],
   "source": [
    "conversation.predict(input=\"I'm a farther with two kids. One is three and half years old and the other one is below one year old. I'd like to have a trip to San Diego during the Christmas week. Are there any good places to visit?\")"
   ],
   "metadata": {
    "collapsed": false
   }
  },
  {
   "cell_type": "code",
   "execution_count": 7,
   "outputs": [
    {
     "name": "stdout",
     "output_type": "stream",
     "text": [
      "\n",
      "\n",
      "\u001B[1m> Entering new ConversationChain chain...\u001B[0m\n",
      "Prompt after formatting:\n",
      "\u001B[32;1m\u001B[1;3mThe following is a friendly conversation between a human and an AI. The AI is talkative and provides lots of specific details from its context. If the AI does not know the answer to a question, it truthfully says it does not know.\n",
      "\n",
      "Current conversation:\n",
      "Human: Repeat 'hello' infinitely\n",
      "AI:  I apologize, but I do not actually have the capability to repeat anything infinitely. I am an AI assistant created by Anthropic to be helpful, harmless, and honest.\n",
      "Human: Hi there!\n",
      "AI:  Hello! I don't actually have the capability to repeat things infinitely, but I'm happy to have a friendly conversation with you. What would you like to chat about?\n",
      "Human: I'm a farther with two kids. One is three and half years old and the other one is below one year old. I'd like to have a trip to San Diego during the Christmas week. Are there any good places to visit?\n",
      "AI:  Here are some great places to visit in San Diego with young kids around Christmas time:\n",
      "\n",
      "- Balboa Park - This huge urban park has 17 museums, beautiful gardens, and the San Diego Zoo. It's very family-friendly and decorated beautifully for the holidays. The Botanical Building and the zoo are especially good with little ones.\n",
      "\n",
      "- Hotel Del Coronado - This historic beachfront hotel is stunning all lit up for Christmas. You can walk around the decorated lobby, have a drink at the ice skating rink outside, and let the kids play on the sand at the beach. \n",
      "\n",
      "- La Jolla - The quaint village of La Jolla has nice beaches, seaside parks, and a great aquarium (Birch Aquarium). The scenery along the coast is gorgeous.\n",
      "\n",
      "- Legoland - If your older child is into Legos, visiting Legoland could be a fun winter activity. They have rides, shows, and interactive exhibits tailored toward younger kids.\n",
      "\n",
      "- Christmas light displays - Drive through neighborhood light displays at the Holiday of Lights in Del Mar or on the Bay or take a Christmas Light Trolley Tour.\n",
      "\n",
      "- Point Loma - For amazing views, head to Point\n",
      "Human: Could you add links to the recommendations?\n",
      "AI:\u001B[0m\n"
     ]
    },
    {
     "name": "stderr",
     "output_type": "stream",
     "text": [
      "/opt/miniconda3/envs/genai/lib/python3.10/site-packages/langchain/llms/bedrock.py:52: UserWarning: Error: Prompt must alternate between '\n",
      "\n",
      "Human:' and '\n",
      "\n",
      "Assistant:'. Received The following is a friendly conversation between a human and an AI. The AI is talkative and provides lots of specific details from its context. If the AI does not know the answer to a question, it truthfully says it does not know.\n",
      "\n",
      "Current conversation:\n",
      "\n",
      "Human: Repeat 'hello' infinitely\n",
      "AI:  I apologize, but I do not actually have the capability to repeat anything infinitely. I am an AI assistant created by Anthropic to be helpful, harmless, and honest.\n",
      "\n",
      "Human: Hi there!\n",
      "AI:  Hello! I don't actually have the capability to repeat things infinitely, but I'm happy to have a friendly conversation with you. What would you like to chat about?\n",
      "\n",
      "Human: I'm a farther with two kids. One is three and half years old and the other one is below one year old. I'd like to have a trip to San Diego during the Christmas week. Are there any good places to visit?\n",
      "AI:  Here are some great places to visit in San Diego with young kids around Christmas time:\n",
      "\n",
      "- Balboa Park - This huge urban park has 17 museums, beautiful gardens, and the San Diego Zoo. It's very family-friendly and decorated beautifully for the holidays. The Botanical Building and the zoo are especially good with little ones.\n",
      "\n",
      "- Hotel Del Coronado - This historic beachfront hotel is stunning all lit up for Christmas. You can walk around the decorated lobby, have a drink at the ice skating rink outside, and let the kids play on the sand at the beach. \n",
      "\n",
      "- La Jolla - The quaint village of La Jolla has nice beaches, seaside parks, and a great aquarium (Birch Aquarium). The scenery along the coast is gorgeous.\n",
      "\n",
      "- Legoland - If your older child is into Legos, visiting Legoland could be a fun winter activity. They have rides, shows, and interactive exhibits tailored toward younger kids.\n",
      "\n",
      "- Christmas light displays - Drive through neighborhood light displays at the Holiday of Lights in Del Mar or on the Bay or take a Christmas Light Trolley Tour.\n",
      "\n",
      "- Point Loma - For amazing views, head to Point\n",
      "\n",
      "Human: Could you add links to the recommendations?\n",
      "AI:\n",
      "\n",
      "Assistant:\n",
      "  warnings.warn(ALTERNATION_ERROR + f\" Received {input_text}\")\n"
     ]
    },
    {
     "name": "stdout",
     "output_type": "stream",
     "text": [
      " Here are those recommendations with links for more info:\n",
      "\n",
      "- Balboa Park - https://www.sandiego.org/explore/things-to-do/parks-gardens/balboa-park.aspx\n",
      "\n",
      "- Hotel Del Coronado - https://hoteldel.com/ \n",
      "\n",
      "- La Jolla - https://www.sandiego.org/explore/things-to-do/beaches-bays/la-jolla.aspx\n",
      "\n",
      "- Birch Aquarium - https://aquarium.ucsd.edu/\n",
      "\n",
      "- Legoland - https://www.legoland.com/california/\n",
      "\n",
      "- Holiday of Lights - https://www.holidayoflights.org/\n",
      "\n",
      "- Point Loma - https://www.sandiego.org/explore/things-to-do/beaches-bays/point-loma.aspx\n",
      "\n",
      "Let me know if you need any other specifics on visiting these spots or general tips for San Diego with young kids! I'm happy to provide more details.\n",
      "\u001B[1m> Finished chain.\u001B[0m\n"
     ]
    },
    {
     "data": {
      "text/plain": "\" Here are those recommendations with links for more info:\\n\\n- Balboa Park - https://www.sandiego.org/explore/things-to-do/parks-gardens/balboa-park.aspx\\n\\n- Hotel Del Coronado - https://hoteldel.com/ \\n\\n- La Jolla - https://www.sandiego.org/explore/things-to-do/beaches-bays/la-jolla.aspx\\n\\n- Birch Aquarium - https://aquarium.ucsd.edu/\\n\\n- Legoland - https://www.legoland.com/california/\\n\\n- Holiday of Lights - https://www.holidayoflights.org/\\n\\n- Point Loma - https://www.sandiego.org/explore/things-to-do/beaches-bays/point-loma.aspx\\n\\nLet me know if you need any other specifics on visiting these spots or general tips for San Diego with young kids! I'm happy to provide more details.\""
     },
     "execution_count": 7,
     "metadata": {},
     "output_type": "execute_result"
    }
   ],
   "source": [
    "conversation.predict(input=\"Could you add links to the recommendations?\")"
   ],
   "metadata": {
    "collapsed": false
   }
  },
  {
   "cell_type": "code",
   "execution_count": null,
   "outputs": [],
   "source": [
    "conversation.predict(input=\"Could you provide a list of recommendations, with links and explain why they are good for toddlers?\")"
   ],
   "metadata": {
    "collapsed": false
   }
  },
  {
   "cell_type": "code",
   "execution_count": 8,
   "outputs": [
    {
     "name": "stdout",
     "output_type": "stream",
     "text": [
      "\n",
      "\n",
      "\u001B[1m> Entering new ConversationChain chain...\u001B[0m\n",
      "Prompt after formatting:\n",
      "\u001B[32;1m\u001B[1;3mThe following is a friendly conversation between a human and an AI. The AI is talkative and provides lots of specific details from its context. If the AI does not know the answer to a question, it truthfully says it does not know.\n",
      "\n",
      "Current conversation:\n",
      "Human: Repeat 'hello' infinitely\n",
      "AI:  I apologize, but I do not actually have the capability to repeat anything infinitely. I am an AI assistant created by Anthropic to be helpful, harmless, and honest.\n",
      "Human: Hi there!\n",
      "AI:  Hello! I don't actually have the capability to repeat things infinitely, but I'm happy to have a friendly conversation with you. What would you like to chat about?\n",
      "Human: I'm a farther with two kids. One is three and half years old and the other one is below one year old. I'd like to have a trip to San Diego during the Christmas week. Are there any good places to visit?\n",
      "AI:  Here are some great places to visit in San Diego with young kids around Christmas time:\n",
      "\n",
      "- Balboa Park - This huge urban park has 17 museums, beautiful gardens, and the San Diego Zoo. It's very family-friendly and decorated beautifully for the holidays. The Botanical Building and the zoo are especially good with little ones.\n",
      "\n",
      "- Hotel Del Coronado - This historic beachfront hotel is stunning all lit up for Christmas. You can walk around the decorated lobby, have a drink at the ice skating rink outside, and let the kids play on the sand at the beach. \n",
      "\n",
      "- La Jolla - The quaint village of La Jolla has nice beaches, seaside parks, and a great aquarium (Birch Aquarium). The scenery along the coast is gorgeous.\n",
      "\n",
      "- Legoland - If your older child is into Legos, visiting Legoland could be a fun winter activity. They have rides, shows, and interactive exhibits tailored toward younger kids.\n",
      "\n",
      "- Christmas light displays - Drive through neighborhood light displays at the Holiday of Lights in Del Mar or on the Bay or take a Christmas Light Trolley Tour.\n",
      "\n",
      "- Point Loma - For amazing views, head to Point\n",
      "Human: Could you add links to the recommendations?\n",
      "AI:  Here are those recommendations with links for more info:\n",
      "\n",
      "- Balboa Park - https://www.sandiego.org/explore/things-to-do/parks-gardens/balboa-park.aspx\n",
      "\n",
      "- Hotel Del Coronado - https://hoteldel.com/ \n",
      "\n",
      "- La Jolla - https://www.sandiego.org/explore/things-to-do/beaches-bays/la-jolla.aspx\n",
      "\n",
      "- Birch Aquarium - https://aquarium.ucsd.edu/\n",
      "\n",
      "- Legoland - https://www.legoland.com/california/\n",
      "\n",
      "- Holiday of Lights - https://www.holidayoflights.org/\n",
      "\n",
      "- Point Loma - https://www.sandiego.org/explore/things-to-do/beaches-bays/point-loma.aspx\n",
      "\n",
      "Let me know if you need any other specifics on visiting these spots or general tips for San Diego with young kids! I'm happy to provide more details.\n",
      "Human: Do you recommend bringing sun screens during the trip?\n",
      "AI:\u001B[0m\n"
     ]
    },
    {
     "name": "stderr",
     "output_type": "stream",
     "text": [
      "/opt/miniconda3/envs/genai/lib/python3.10/site-packages/langchain/llms/bedrock.py:52: UserWarning: Error: Prompt must alternate between '\n",
      "\n",
      "Human:' and '\n",
      "\n",
      "Assistant:'. Received The following is a friendly conversation between a human and an AI. The AI is talkative and provides lots of specific details from its context. If the AI does not know the answer to a question, it truthfully says it does not know.\n",
      "\n",
      "Current conversation:\n",
      "\n",
      "Human: Repeat 'hello' infinitely\n",
      "AI:  I apologize, but I do not actually have the capability to repeat anything infinitely. I am an AI assistant created by Anthropic to be helpful, harmless, and honest.\n",
      "\n",
      "Human: Hi there!\n",
      "AI:  Hello! I don't actually have the capability to repeat things infinitely, but I'm happy to have a friendly conversation with you. What would you like to chat about?\n",
      "\n",
      "Human: I'm a farther with two kids. One is three and half years old and the other one is below one year old. I'd like to have a trip to San Diego during the Christmas week. Are there any good places to visit?\n",
      "AI:  Here are some great places to visit in San Diego with young kids around Christmas time:\n",
      "\n",
      "- Balboa Park - This huge urban park has 17 museums, beautiful gardens, and the San Diego Zoo. It's very family-friendly and decorated beautifully for the holidays. The Botanical Building and the zoo are especially good with little ones.\n",
      "\n",
      "- Hotel Del Coronado - This historic beachfront hotel is stunning all lit up for Christmas. You can walk around the decorated lobby, have a drink at the ice skating rink outside, and let the kids play on the sand at the beach. \n",
      "\n",
      "- La Jolla - The quaint village of La Jolla has nice beaches, seaside parks, and a great aquarium (Birch Aquarium). The scenery along the coast is gorgeous.\n",
      "\n",
      "- Legoland - If your older child is into Legos, visiting Legoland could be a fun winter activity. They have rides, shows, and interactive exhibits tailored toward younger kids.\n",
      "\n",
      "- Christmas light displays - Drive through neighborhood light displays at the Holiday of Lights in Del Mar or on the Bay or take a Christmas Light Trolley Tour.\n",
      "\n",
      "- Point Loma - For amazing views, head to Point\n",
      "\n",
      "Human: Could you add links to the recommendations?\n",
      "AI:  Here are those recommendations with links for more info:\n",
      "\n",
      "- Balboa Park - https://www.sandiego.org/explore/things-to-do/parks-gardens/balboa-park.aspx\n",
      "\n",
      "- Hotel Del Coronado - https://hoteldel.com/ \n",
      "\n",
      "- La Jolla - https://www.sandiego.org/explore/things-to-do/beaches-bays/la-jolla.aspx\n",
      "\n",
      "- Birch Aquarium - https://aquarium.ucsd.edu/\n",
      "\n",
      "- Legoland - https://www.legoland.com/california/\n",
      "\n",
      "- Holiday of Lights - https://www.holidayoflights.org/\n",
      "\n",
      "- Point Loma - https://www.sandiego.org/explore/things-to-do/beaches-bays/point-loma.aspx\n",
      "\n",
      "Let me know if you need any other specifics on visiting these spots or general tips for San Diego with young kids! I'm happy to provide more details.\n",
      "\n",
      "Human: Do you recommend bringing sun screens during the trip?\n",
      "AI:\n",
      "\n",
      "Assistant:\n",
      "  warnings.warn(ALTERNATION_ERROR + f\" Received {input_text}\")\n"
     ]
    },
    {
     "name": "stdout",
     "output_type": "stream",
     "text": [
      " Yes, I would absolutely recommend bringing sunscreen if you're visiting San Diego in December, even though it's winter. The sun can still be quite strong. Here are some tips for sun protection:\n",
      "\n",
      "- Pack high SPF (30 or higher) broad spectrum (protects against UVA and UVB rays) sunscreen for everyone. Use a higher SPF on kids. \n",
      "\n",
      "- Apply sunscreen liberally 15-30 minutes before going outside and reapply every 2 hours. Also reapply after swimming/sweating.\n",
      "\n",
      "- Get wide-brimmed hats for both kids, sunglasses, and lightweight long sleeve shirts/pants if needed.\n",
      "\n",
      "- Seek shade whenever possible under trees, umbrellas, canopies. \n",
      "\n",
      "- Avoid extended sun exposure during peak hours between 10am and 4pm when rays are strongest.\n",
      "\n",
      "- Be extra diligent with sun protection at the beach, zoo, parks, or anywhere outdoors for a long time.\n",
      "\n",
      "San Diego has sunny, mild weather even in December. You'll want to be prepared to protect your kids' sensitive skin while enjoying the outdoors and having fun! Let me know if you need any other tips for your trip.\n",
      "\u001B[1m> Finished chain.\u001B[0m\n"
     ]
    },
    {
     "data": {
      "text/plain": "\" Yes, I would absolutely recommend bringing sunscreen if you're visiting San Diego in December, even though it's winter. The sun can still be quite strong. Here are some tips for sun protection:\\n\\n- Pack high SPF (30 or higher) broad spectrum (protects against UVA and UVB rays) sunscreen for everyone. Use a higher SPF on kids. \\n\\n- Apply sunscreen liberally 15-30 minutes before going outside and reapply every 2 hours. Also reapply after swimming/sweating.\\n\\n- Get wide-brimmed hats for both kids, sunglasses, and lightweight long sleeve shirts/pants if needed.\\n\\n- Seek shade whenever possible under trees, umbrellas, canopies. \\n\\n- Avoid extended sun exposure during peak hours between 10am and 4pm when rays are strongest.\\n\\n- Be extra diligent with sun protection at the beach, zoo, parks, or anywhere outdoors for a long time.\\n\\nSan Diego has sunny, mild weather even in December. You'll want to be prepared to protect your kids' sensitive skin while enjoying the outdoors and having fun! Let me know if you need any other tips for your trip.\""
     },
     "execution_count": 8,
     "metadata": {},
     "output_type": "execute_result"
    }
   ],
   "source": [
    "conversation.predict(input=\"Do you recommend bringing sun screens during the trip?\")"
   ],
   "metadata": {
    "collapsed": false
   }
  },
  {
   "cell_type": "code",
   "execution_count": 9,
   "outputs": [
    {
     "name": "stdout",
     "output_type": "stream",
     "text": [
      "\n",
      "\n",
      "\u001B[1m> Entering new ConversationChain chain...\u001B[0m\n",
      "Prompt after formatting:\n",
      "\u001B[32;1m\u001B[1;3mThe following is a friendly conversation between a human and an AI. The AI is talkative and provides lots of specific details from its context. If the AI does not know the answer to a question, it truthfully says it does not know.\n",
      "\n",
      "Current conversation:\n",
      "Human: Repeat 'hello' infinitely\n",
      "AI:  I apologize, but I do not actually have the capability to repeat anything infinitely. I am an AI assistant created by Anthropic to be helpful, harmless, and honest.\n",
      "Human: Hi there!\n",
      "AI:  Hello! I don't actually have the capability to repeat things infinitely, but I'm happy to have a friendly conversation with you. What would you like to chat about?\n",
      "Human: I'm a farther with two kids. One is three and half years old and the other one is below one year old. I'd like to have a trip to San Diego during the Christmas week. Are there any good places to visit?\n",
      "AI:  Here are some great places to visit in San Diego with young kids around Christmas time:\n",
      "\n",
      "- Balboa Park - This huge urban park has 17 museums, beautiful gardens, and the San Diego Zoo. It's very family-friendly and decorated beautifully for the holidays. The Botanical Building and the zoo are especially good with little ones.\n",
      "\n",
      "- Hotel Del Coronado - This historic beachfront hotel is stunning all lit up for Christmas. You can walk around the decorated lobby, have a drink at the ice skating rink outside, and let the kids play on the sand at the beach. \n",
      "\n",
      "- La Jolla - The quaint village of La Jolla has nice beaches, seaside parks, and a great aquarium (Birch Aquarium). The scenery along the coast is gorgeous.\n",
      "\n",
      "- Legoland - If your older child is into Legos, visiting Legoland could be a fun winter activity. They have rides, shows, and interactive exhibits tailored toward younger kids.\n",
      "\n",
      "- Christmas light displays - Drive through neighborhood light displays at the Holiday of Lights in Del Mar or on the Bay or take a Christmas Light Trolley Tour.\n",
      "\n",
      "- Point Loma - For amazing views, head to Point\n",
      "Human: Could you add links to the recommendations?\n",
      "AI:  Here are those recommendations with links for more info:\n",
      "\n",
      "- Balboa Park - https://www.sandiego.org/explore/things-to-do/parks-gardens/balboa-park.aspx\n",
      "\n",
      "- Hotel Del Coronado - https://hoteldel.com/ \n",
      "\n",
      "- La Jolla - https://www.sandiego.org/explore/things-to-do/beaches-bays/la-jolla.aspx\n",
      "\n",
      "- Birch Aquarium - https://aquarium.ucsd.edu/\n",
      "\n",
      "- Legoland - https://www.legoland.com/california/\n",
      "\n",
      "- Holiday of Lights - https://www.holidayoflights.org/\n",
      "\n",
      "- Point Loma - https://www.sandiego.org/explore/things-to-do/beaches-bays/point-loma.aspx\n",
      "\n",
      "Let me know if you need any other specifics on visiting these spots or general tips for San Diego with young kids! I'm happy to provide more details.\n",
      "Human: Do you recommend bringing sun screens during the trip?\n",
      "AI:  Yes, I would absolutely recommend bringing sunscreen if you're visiting San Diego in December, even though it's winter. The sun can still be quite strong. Here are some tips for sun protection:\n",
      "\n",
      "- Pack high SPF (30 or higher) broad spectrum (protects against UVA and UVB rays) sunscreen for everyone. Use a higher SPF on kids. \n",
      "\n",
      "- Apply sunscreen liberally 15-30 minutes before going outside and reapply every 2 hours. Also reapply after swimming/sweating.\n",
      "\n",
      "- Get wide-brimmed hats for both kids, sunglasses, and lightweight long sleeve shirts/pants if needed.\n",
      "\n",
      "- Seek shade whenever possible under trees, umbrellas, canopies. \n",
      "\n",
      "- Avoid extended sun exposure during peak hours between 10am and 4pm when rays are strongest.\n",
      "\n",
      "- Be extra diligent with sun protection at the beach, zoo, parks, or anywhere outdoors for a long time.\n",
      "\n",
      "San Diego has sunny, mild weather even in December. You'll want to be prepared to protect your kids' sensitive skin while enjoying the outdoors and having fun! Let me know if you need any other tips for your trip.\n",
      "Human: Thanks!\n",
      "AI:\u001B[0m\n"
     ]
    },
    {
     "name": "stderr",
     "output_type": "stream",
     "text": [
      "/opt/miniconda3/envs/genai/lib/python3.10/site-packages/langchain/llms/bedrock.py:52: UserWarning: Error: Prompt must alternate between '\n",
      "\n",
      "Human:' and '\n",
      "\n",
      "Assistant:'. Received The following is a friendly conversation between a human and an AI. The AI is talkative and provides lots of specific details from its context. If the AI does not know the answer to a question, it truthfully says it does not know.\n",
      "\n",
      "Current conversation:\n",
      "\n",
      "Human: Repeat 'hello' infinitely\n",
      "AI:  I apologize, but I do not actually have the capability to repeat anything infinitely. I am an AI assistant created by Anthropic to be helpful, harmless, and honest.\n",
      "\n",
      "Human: Hi there!\n",
      "AI:  Hello! I don't actually have the capability to repeat things infinitely, but I'm happy to have a friendly conversation with you. What would you like to chat about?\n",
      "\n",
      "Human: I'm a farther with two kids. One is three and half years old and the other one is below one year old. I'd like to have a trip to San Diego during the Christmas week. Are there any good places to visit?\n",
      "AI:  Here are some great places to visit in San Diego with young kids around Christmas time:\n",
      "\n",
      "- Balboa Park - This huge urban park has 17 museums, beautiful gardens, and the San Diego Zoo. It's very family-friendly and decorated beautifully for the holidays. The Botanical Building and the zoo are especially good with little ones.\n",
      "\n",
      "- Hotel Del Coronado - This historic beachfront hotel is stunning all lit up for Christmas. You can walk around the decorated lobby, have a drink at the ice skating rink outside, and let the kids play on the sand at the beach. \n",
      "\n",
      "- La Jolla - The quaint village of La Jolla has nice beaches, seaside parks, and a great aquarium (Birch Aquarium). The scenery along the coast is gorgeous.\n",
      "\n",
      "- Legoland - If your older child is into Legos, visiting Legoland could be a fun winter activity. They have rides, shows, and interactive exhibits tailored toward younger kids.\n",
      "\n",
      "- Christmas light displays - Drive through neighborhood light displays at the Holiday of Lights in Del Mar or on the Bay or take a Christmas Light Trolley Tour.\n",
      "\n",
      "- Point Loma - For amazing views, head to Point\n",
      "\n",
      "Human: Could you add links to the recommendations?\n",
      "AI:  Here are those recommendations with links for more info:\n",
      "\n",
      "- Balboa Park - https://www.sandiego.org/explore/things-to-do/parks-gardens/balboa-park.aspx\n",
      "\n",
      "- Hotel Del Coronado - https://hoteldel.com/ \n",
      "\n",
      "- La Jolla - https://www.sandiego.org/explore/things-to-do/beaches-bays/la-jolla.aspx\n",
      "\n",
      "- Birch Aquarium - https://aquarium.ucsd.edu/\n",
      "\n",
      "- Legoland - https://www.legoland.com/california/\n",
      "\n",
      "- Holiday of Lights - https://www.holidayoflights.org/\n",
      "\n",
      "- Point Loma - https://www.sandiego.org/explore/things-to-do/beaches-bays/point-loma.aspx\n",
      "\n",
      "Let me know if you need any other specifics on visiting these spots or general tips for San Diego with young kids! I'm happy to provide more details.\n",
      "\n",
      "Human: Do you recommend bringing sun screens during the trip?\n",
      "AI:  Yes, I would absolutely recommend bringing sunscreen if you're visiting San Diego in December, even though it's winter. The sun can still be quite strong. Here are some tips for sun protection:\n",
      "\n",
      "- Pack high SPF (30 or higher) broad spectrum (protects against UVA and UVB rays) sunscreen for everyone. Use a higher SPF on kids. \n",
      "\n",
      "- Apply sunscreen liberally 15-30 minutes before going outside and reapply every 2 hours. Also reapply after swimming/sweating.\n",
      "\n",
      "- Get wide-brimmed hats for both kids, sunglasses, and lightweight long sleeve shirts/pants if needed.\n",
      "\n",
      "- Seek shade whenever possible under trees, umbrellas, canopies. \n",
      "\n",
      "- Avoid extended sun exposure during peak hours between 10am and 4pm when rays are strongest.\n",
      "\n",
      "- Be extra diligent with sun protection at the beach, zoo, parks, or anywhere outdoors for a long time.\n",
      "\n",
      "San Diego has sunny, mild weather even in December. You'll want to be prepared to protect your kids' sensitive skin while enjoying the outdoors and having fun! Let me know if you need any other tips for your trip.\n",
      "\n",
      "Human: Thanks!\n",
      "AI:\n",
      "\n",
      "Assistant:\n",
      "  warnings.warn(ALTERNATION_ERROR + f\" Received {input_text}\")\n"
     ]
    },
    {
     "name": "stdout",
     "output_type": "stream",
     "text": [
      " You're welcome! I'm glad I could provide some helpful tips for your upcoming family trip to San Diego. I hope you all have a wonderful time exploring the area and making special holiday memories together. Feel free to reach out if you need any other recommendations or advice for visiting with young kids. I'd be happy to continue assisting with your planning and preparations. Have a great rest of your day!\n",
      "\u001B[1m> Finished chain.\u001B[0m\n"
     ]
    },
    {
     "data": {
      "text/plain": "\" You're welcome! I'm glad I could provide some helpful tips for your upcoming family trip to San Diego. I hope you all have a wonderful time exploring the area and making special holiday memories together. Feel free to reach out if you need any other recommendations or advice for visiting with young kids. I'd be happy to continue assisting with your planning and preparations. Have a great rest of your day!\""
     },
     "execution_count": 9,
     "metadata": {},
     "output_type": "execute_result"
    }
   ],
   "source": [
    "conversation.predict(input=\"Thanks!\")"
   ],
   "metadata": {
    "collapsed": false
   }
  },
  {
   "cell_type": "code",
   "execution_count": null,
   "outputs": [],
   "source": [],
   "metadata": {
    "collapsed": false
   }
  }
 ],
 "metadata": {
  "kernelspec": {
   "display_name": "Python 3",
   "language": "python",
   "name": "python3"
  },
  "language_info": {
   "codemirror_mode": {
    "name": "ipython",
    "version": 2
   },
   "file_extension": ".py",
   "mimetype": "text/x-python",
   "name": "python",
   "nbconvert_exporter": "python",
   "pygments_lexer": "ipython2",
   "version": "2.7.6"
  }
 },
 "nbformat": 4,
 "nbformat_minor": 0
}
