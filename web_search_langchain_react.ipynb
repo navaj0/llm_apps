{
 "cells": [
  {
   "cell_type": "code",
   "execution_count": 1,
   "outputs": [],
   "source": [
    "from langchain.agents import AgentType, Tool, initialize_agent"
   ],
   "metadata": {
    "collapsed": false
   }
  },
  {
   "cell_type": "markdown",
   "source": [
    "# Set up the Search Tool\n",
    "\n",
    "To use Google Search API, follow the instructions here: https://python.langchain.com/docs/integrations/tools/google_search\n",
    "\n",
    "Alternatively, use DuckDuckGo Search, https://python.langchain.com/docs/integrations/tools/ddg. It is free and doesn't require any additional set up. However, you may frequently encounter RateLimit errors."
   ],
   "metadata": {
    "collapsed": false
   }
  },
  {
   "cell_type": "code",
   "execution_count": 35,
   "outputs": [],
   "source": [
    "import os\n",
    "\n",
    "os.environ[\"GOOGLE_API_KEY\"] =\n",
    "os.environ[\"GOOGLE_CSE_ID\"] ="
   ],
   "metadata": {
    "collapsed": false
   }
  },
  {
   "cell_type": "code",
   "execution_count": 15,
   "outputs": [],
   "source": [
    "import os\n",
    "from langchain.utilities import DuckDuckGoSearchAPIWrapper, GoogleSearchAPIWrapper\n",
    "\n",
    "google_api_key = os.getenv(\"GOOGLE_API_KEY\")\n",
    "google_cse_id = os.getenv(\"GOOGLE_CSE_ID\")\n",
    "\n",
    "search = GoogleSearchAPIWrapper(google_api_key=google_api_key, google_cse_id=google_cse_id)\n",
    "\n",
    "# search = DuckDuckGoSearchAPIWrapper()\n",
    "\n",
    "tools = [\n",
    "    Tool(\n",
    "        name=\"Current Search\",\n",
    "        func=search.run,\n",
    "        description=\"useful for when you need to answer questions about current events or the current state of the world\",\n",
    "    ),\n",
    "]"
   ],
   "metadata": {
    "collapsed": false
   }
  },
  {
   "cell_type": "code",
   "execution_count": 20,
   "outputs": [
    {
     "data": {
      "text/plain": "'Congressman Mike Johnson (LA-04) is elected Speaker of the House. Interior of the U.S. Capitol dome. History of the U.S. House. Discover how Congress\\xa0... The 56th and current Speaker of the House is Mike Johnson, a Republican from Louisiana. The Speaker of the House is second in line to succeed the President, after the Vice President. Republican Leadership. scalise Majority Leader Results 1 - 10 of 19 ... Vote Question: On Motion to Suspend the Rules and Concur in the Senate Amendment. Bill Title & Description: To amend the Permanent\\xa0... Jan 9, 2023 ... The Speaker shall take the Chair on every legislative day precisely at the hour to which the House last ad- journed and immediately call the. The Speaker announced that the House do now adjourn pursuant to section 3(z) of <a target=\"_blank\" rel=\"bill\" href=\"https://www.congress.gov/bill/118th-congress\\xa0... In addition to the women representatives, 7 (4D, 3R) women have served as non-voting delegates representing American Samoa, the District of Columbia, Guam,\\xa0... House In Session Today · House Floor · Bills · Votes · Committee Meetings\\xa0... U.S. Congress legislation, Congressional Record debates, Members of Congress, legislative process educational resources presented by the Library of\\xa0... Adams, Alma S. ADAMS,ALMA. State: North Carolina (NC); District: 12th; Hometown: Charlotte; Party: Democrat. Photo of Robert B. Aderholt\\xa0...'"
     },
     "execution_count": 20,
     "metadata": {},
     "output_type": "execute_result"
    }
   ],
   "source": [
    "# It returns a list of relevant web resources that might or might not directly answer the question.\n",
    "\n",
    "tools[0].invoke(\"The current US House Speaker?\")"
   ],
   "metadata": {
    "collapsed": false
   }
  },
  {
   "cell_type": "markdown",
   "source": [
    "# Set up the LLM\n",
    "\n",
    "Here we use the Anthropic Claude hosted on AWS Bedrock. To access the models, follow https://docs.aws.amazon.com/bedrock/latest/userguide/model-access.html"
   ],
   "metadata": {
    "collapsed": false
   }
  },
  {
   "cell_type": "code",
   "execution_count": 4,
   "outputs": [],
   "source": [
    "from langchain.llms import Bedrock\n",
    "\n",
    "llm = Bedrock(\n",
    "    model_id=\"anthropic.claude-v2\",\n",
    ")"
   ],
   "metadata": {
    "collapsed": false
   }
  },
  {
   "cell_type": "code",
   "execution_count": 19,
   "outputs": [
    {
     "data": {
      "text/plain": "\" Nancy Pelosi is the current Speaker of the United States House of Representatives. She has held this position since January 2019.\\n\\nPelosi previously served as Speaker from 2007 to 2011. She is the first woman to hold the position and is currently in her second stint as Speaker. Pelosi represents California's 12th congressional district and has served in the House since 1987. She is a member of the Democratic Party.\""
     },
     "execution_count": 19,
     "metadata": {},
     "output_type": "execute_result"
    }
   ],
   "source": [
    "# Claude's knowledge base is outdated. Nancy Pelosi is no longer the House Speaker.\n",
    "llm._call(\"Who is the current US House Speaker?\")"
   ],
   "metadata": {
    "collapsed": false
   }
  },
  {
   "cell_type": "markdown",
   "source": [
    "# LangChain Agent\n",
    "\n",
    "An LangChain Agent combines the power of the reasoning capability of LLMs and the information from external tools"
   ],
   "metadata": {
    "collapsed": false
   }
  },
  {
   "cell_type": "code",
   "execution_count": 12,
   "outputs": [],
   "source": [
    "agent_chain = initialize_agent(\n",
    "        tools,\n",
    "        llm,\n",
    "        agent=AgentType.ZERO_SHOT_REACT_DESCRIPTION,\n",
    "        verbose=True,\n",
    "        agent_kwargs = {\n",
    "            \"input_variables\": [\"input\", \"agent_scratchpad\",]\n",
    "        }\n",
    "    )"
   ],
   "metadata": {
    "collapsed": false
   }
  },
  {
   "cell_type": "code",
   "execution_count": 21,
   "outputs": [
    {
     "name": "stdout",
     "output_type": "stream",
     "text": [
      "Answer the following questions as best you can. You have access to the following tools:\n",
      "\n",
      "Current Search: useful for when you need to answer questions about current events or the current state of the world\n",
      "\n",
      "Use the following format:\n",
      "\n",
      "Question: the input question you must answer\n",
      "Thought: you should always think about what to do\n",
      "Action: the action to take, should be one of [Current Search]\n",
      "Action Input: the input to the action\n",
      "Observation: the result of the action\n",
      "... (this Thought/Action/Action Input/Observation can repeat N times)\n",
      "Thought: I now know the final answer\n",
      "Final Answer: the final answer to the original input question\n",
      "\n",
      "Begin!\n",
      "\n",
      "Question: {input}\n",
      "Thought:{agent_scratchpad}\n"
     ]
    }
   ],
   "source": [
    "# The prompt guides the LLM how to think step by step to answer the input query.\n",
    "\n",
    "print(agent_chain.agent.llm_chain.prompt.template)"
   ],
   "metadata": {
    "collapsed": false
   }
  },
  {
   "cell_type": "code",
   "execution_count": 27,
   "outputs": [
    {
     "name": "stdout",
     "output_type": "stream",
     "text": [
      "\n",
      "\n",
      "\u001B[1m> Entering new AgentExecutor chain...\u001B[0m\n",
      "\u001B[32;1m\u001B[1;3m Here is my response:\n",
      "\n",
      "Question: Who is the US House Speaker?\n",
      "\n",
      "Thought: To find out who the current US House Speaker is, I should perform a web search for this information.\n",
      "\n",
      "Action: Current Search\n",
      "Action Input: who is the current us house speaker\u001B[0m\n",
      "Observation: \u001B[36;1m\u001B[1;3mCongressman Mike Johnson (LA-04) is elected Speaker of the House. Interior of the U.S. Capitol dome. History of the U.S. House. Discover how Congress ... The 56th and current Speaker of the House is Mike Johnson, a Republican from ... \"Continuity of Government: Current Federal Arrangements and the Future\" (PDF). The Speaker of the House is second in line to succeed the President, after the Vice President. Republican Leadership. scalise Majority Leader Results 1 - 10 of 19 ... 1(current); 2. Jan 18, 2024, 05:18 PM | 118th Congress, 2nd Session. Roll Call Number: 19 | Bill Number: H. R. 6914. Vote Question: On ... House Calendar · Days in Session Calendars Show the days on which the House was in session for each session of Congress; Federal Holidays. U.S. House of ... ... Record · U.S. Senate · House Schedule · Bills This Week. Member Information. Member Information. Member Profiles · Leadership · Election Information · Current ... Jan 9, 2023 ... the current Congress;. (C) a description of each such pro- gram or ... United States,'' ''House of Represen tatives,'' or ''Official Business ... ... Record · U.S. Senate · House Schedule · Bills This Week. Member Information. Member Information. Member Profiles · Leadership · Election Information · Current ... Count includes both current and past women representatives. In addition to the women representatives, 7 (4D, 3R) women have served as non-voting delegates ... Current Vacancies. Demographics. Member Oaths. U.S. Capitol. Room H154 Washington, DC 20515-6601. p: (202) 225-7000. For general inquiries: info.clerkweb@mail.\u001B[0m\n",
      "Thought:\u001B[32;1m\u001B[1;3m Based on the search results, the current Speaker of the US House of Representatives is Congressman Mike Johnson (LA-04).\n",
      "\n",
      "Thought: I now know the final answer.\n",
      "\n",
      "Final Answer: The current US House Speaker is Congressman Mike Johnson (LA-04).\u001B[0m\n",
      "\n",
      "\u001B[1m> Finished chain.\u001B[0m\n"
     ]
    }
   ],
   "source": [
    "import re\n",
    "\n",
    "try:\n",
    "    agent_chain.run(input=\"Who is the US House Speaker?\")\n",
    "except ValueError as e:\n",
    "    # Claude doesn't always follow the output format defined in the prompt, which confuses LangChain's output parser.\n",
    "    # Even though the answers it gives are quite reasonable.\n",
    "    # This is actually one pain working with LLMs.\n",
    "    matches = re.match(\".+Could not parse LLM output: (`.+`)\", str(e))\n",
    "    print(matches.group(1))"
   ],
   "metadata": {
    "collapsed": false
   }
  },
  {
   "cell_type": "code",
   "execution_count": 33,
   "outputs": [
    {
     "name": "stdout",
     "output_type": "stream",
     "text": [
      "\n",
      "\n",
      "\u001B[1m> Entering new AgentExecutor chain...\u001B[0m\n",
      "\u001B[32;1m\u001B[1;3m Here is my attempt to answer the question \"How is the weather in San Diego?\":\n",
      "\n",
      "Thought: To determine the current weather in San Diego, I should perform a web search.\n",
      "\n",
      "Action: Current Search\n",
      "Action Input: san diego weather\u001B[0m\n",
      "Observation: \u001B[36;1m\u001B[1;3mBe prepared with the most accurate 10-day forecast for San Diego, CA with highs, lows, chance of precipitation from The Weather Channel and Weather.com. San Diego, CA Weather Forecast, with current conditions, wind, air quality, and what to expect for the next 3 days. San Diego, CA Forecast · Morning. 73°. Chance of Rain0% · Afternoon. 70°. Chance of Rain0% · Evening. 51°. Chance of Rain1% · Overnight. 48°. Chance of Rain1% ... Get the latest San Diego weather and 7-day forecast from the FOX 5 San Diego weather team. See the latest doppler radar and weather alerts. 1:00 pm · Feels Like70° · WindWNW 7 mph · Humidity39% · UV Index4 of 11 · Cloud Cover5% · Rain Amount0 in ... San Diego-Downtown CA ... Overnight: Partly cloudy, with a low around 52. Calm wind. ... Monday: Mostly sunny, with a high near 71. Calm wind becoming west around. NWS Forecast Office San Diego, CA · Current Outlooks · Submit Report · Daily Briefing · Detailed Hazards · Hurricane Outlook · Weather-Ready and Safety ... San Diego Weather Forecasts. Weather Underground provides local & long-range weather forecasts, weatherreports, maps & tropical weather conditions for the ... SportsWrap · Winners, losers as 49ers stun Lions 34-31 in NFC Championship Game · The future is near: San Diego Padres invite 17-year-old phenom Ethan Salas to ... Inclement Weather Shelter Program. The Inclement Weather Shelter Program provides additional shelter capacity during inclement weather days. The program is ...\u001B[0m\n",
      "Thought:\u001B[32;1m\u001B[1;3m Here is my attempt to summarize the key information from the search results:\n",
      "\n",
      "The current weather in San Diego appears to be partly cloudy with mild temperatures. The highs are around 70-73 degrees Fahrenheit during the daytime, with overnight lows around 48-52 degrees. Winds are light and there is little to no chance of rain in the forecast. The weather looks pleasant overall, with sun and seasonable temperatures expected.\n",
      "\n",
      "Thought: I now know the final answer.\n",
      "\n",
      "Final Answer: The current weather in San Diego is mild, with partly cloudy skies, highs around 70-73 degrees Fahrenheit, lows around 48-52 degrees Fahrenheit, light winds, and little chance of rain. Overall the weather looks pleasant.\u001B[0m\n",
      "\n",
      "\u001B[1m> Finished chain.\u001B[0m\n"
     ]
    }
   ],
   "source": [
    "try:\n",
    "    agent_chain.run(input=\"How is the weather in San Diego?\")\n",
    "except ValueError as e:\n",
    "    # print(e)\n",
    "    matches = re.match(\".+Could not parse LLM output: (`.+`)\", str(e))\n",
    "    print(matches.group(1))"
   ],
   "metadata": {
    "collapsed": false
   }
  },
  {
   "cell_type": "code",
   "execution_count": 26,
   "outputs": [
    {
     "name": "stdout",
     "output_type": "stream",
     "text": [
      "\n",
      "\n",
      "\u001B[1m> Entering new AgentExecutor chain...\u001B[0m\n",
      "\u001B[32;1m\u001B[1;3m Here is a response in the requested format:\n",
      "\n",
      "Question: When and where is the latest meeting between Xi Jingping and Joe Biden?\n",
      "\n",
      "Thought: To find out when and where the latest meeting between Xi Jinping and Joe Biden took place, I should perform a current events search.\n",
      "\n",
      "Action: Current Search\n",
      "Action Input: latest meeting between Xi Jinping and Joe Biden\u001B[0m\n",
      "Observation: \u001B[36;1m\u001B[1;3mNov 15, 2023 ... Biden, Jr. today held a Summit with President Xi Jinping of the People's Republic of China (PRC), in Woodside, California. The two leaders held ... Nov 16, 2023 ... On November 15 local time, President Xi Jinping and U.S. President Joe Biden held a summit meeting at the Filoli Estate, San Francisco. Nov 16, 2023 ... President Joseph R. Biden, Jr. today held a Summit with President Xi Jinping of the People's Republic of China (PRC), in Woodside, ... Nov 14, 2022 ... On the afternoon of 14 November local time, President Xi Jinping had a meeting with U.S. President Joe Biden in Bali, Indonesia. Nov 14, 2022 ... NUSA DUA, Indonesia — A highly anticipated meeting between China's leader Xi Jinping and President Biden finished Monday with both leaders ... Nov 15, 2023 ... President Joe Biden and China's Xi Jinping opened their first face-to-face meeting in more than a year with a solid handshake. Nov 15, 2023 ... SAN FRANCISCO — President Joe Biden met face to face with his Chinese counterpart, Xi Jinping, on Wednesday and said afterward they had ... Nov 15, 2023 ... President Joe Biden and Chinese President Xi Jinping sat down together on Wednesday just outside of San Francisco, where Asian leaders gathered ... Nov 15, 2023 ... President Joe Biden and Chinese President Xi Jinping sat down together on Wednesday just outside of San Francisco, where Asian leaders gathered ... Nov 15, 2023 ... Joe Biden and Xi Jinping have begun a high-profile summit in San Francisco in a renewed attempt to stabilise US-China relations after ...\u001B[0m\n",
      "Thought:\u001B[32;1m\u001B[1;3m Here is a summary of the key information from the search results:\n",
      "\n",
      "The latest meeting between Xi Jinping and Joe Biden was on November 15, 2023 in Woodside, California at the Filoli Estate near San Francisco. This was their first in-person meeting since Biden became president. They previously met virtually on November 14, 2022 while Biden was in Bali, Indonesia for the G20 summit and Xi was in Beijing.\n",
      "\n",
      "Thought: I now know the final answer.\n",
      "\n",
      "Final Answer: The latest meeting between Xi Jinping and Joe Biden was on November 15, 2023 in Woodside, California at the Filoli Estate near San Francisco.\u001B[0m\n",
      "\n",
      "\u001B[1m> Finished chain.\u001B[0m\n"
     ]
    },
    {
     "data": {
      "text/plain": "'The latest meeting between Xi Jinping and Joe Biden was on November 15, 2023 in Woodside, California at the Filoli Estate near San Francisco.'"
     },
     "execution_count": 26,
     "metadata": {},
     "output_type": "execute_result"
    }
   ],
   "source": [
    "agent_chain.run(input=\"When and where is the latest meeting between Xi Jingping and Joe Biden?\")"
   ],
   "metadata": {
    "collapsed": false
   }
  },
  {
   "cell_type": "code",
   "execution_count": 34,
   "outputs": [
    {
     "name": "stdout",
     "output_type": "stream",
     "text": [
      "\n",
      "\n",
      "\u001B[1m> Entering new AgentExecutor chain...\u001B[0m\n",
      "\u001B[32;1m\u001B[1;3m Here is my response:\n",
      "\n",
      "Question: Are there any pandas in San Diego Zoo right now?\n",
      "\n",
      "Thought: To find out if there are currently any pandas at the San Diego Zoo, I should do a web search for recent information on the pandas there.\n",
      "\n",
      "Action: Current Search\n",
      "Action Input: san diego zoo pandas\n",
      "\u001B[0m\n",
      "Observation: \u001B[36;1m\u001B[1;3mNov 16, 2023 ... Panda Bai Yun, 27, walks through her enclosure at the San Diego Zoo on April 16, 2019, days before heading back to China ... In honoring the terms of our conservation loan agreement with the People's Republic of China, 27-year-old Bai Yun and her son, 6-year-old Xiao Liwu, have been ... After years of red tape and tons of application paperwork, the Zoo and China agreed on a 12-year research loan of two giant pandas, Bai Yun and Shi Shi, who ... Nov 16, 2023 ... Chinese President Xi Jinping hinted at a possible return of pandas to the San Diego Zoo and others across country during a visit to ... Nov 9, 2023 ... Bai Yun's mate, Gao Gao, left San Diego a year earlier, in 2018. · Together, they bred five cubs at the San Diego Zoo, all of which returned to ... Mar 25, 2019 ... Bai-Yun, 27, and her son, Xiao Liwu, 6, will leave at the end of April for China. They are the last two giant pandas to live at the San Diego ... The endangered cub will now be called Pavitra (pronounced pah-vee-tra), which means “sacred” in Nepali. Pavitra was born June 9 to first-time parents Adira and ... Nov 16, 2023 ... Despite the San Diego Zoo returning its pandas in 2019, the park has kept the enclosure space on-site and still features signage reflecting that ... Mar 13, 2018 ... While it may be fun to take a long vacation in new surroundings, there's nothing like coming home again. The San Diego Zoo's giant pandas ... Nov 16, 2023 ... The San Diego Zoo returned its pandas in 2019, and the last bear at the Memphis, Tennessee, zoo went home earlier this year. Tags. Quality of ...\u001B[0m\n",
      "Thought:` Based on the search results, it appears there are currently no pandas at the San Diego Zoo. The last pandas, Bai Yun and Xiao Liwu, were returned to China in April 2019 when the zoo's conservation loan agreement expired. The panda exhibit at the San Diego Zoo remains empty since their departure. So in summary, there are no pandas at the San Diego Zoo right now.`\n"
     ]
    }
   ],
   "source": [
    "try:\n",
    "    agent_chain.run(input=\"Are there any pandas in San Diego Zoo right now?\")\n",
    "except ValueError as e:\n",
    "    # print(e)\n",
    "    matches = re.match(\".+Could not parse LLM output: (`.+`)\", str(e))\n",
    "    print(matches.group(1))"
   ],
   "metadata": {
    "collapsed": false
   }
  },
  {
   "cell_type": "code",
   "execution_count": null,
   "outputs": [],
   "source": [],
   "metadata": {
    "collapsed": false
   }
  }
 ],
 "metadata": {
  "kernelspec": {
   "display_name": "Python 3",
   "language": "python",
   "name": "python3"
  },
  "language_info": {
   "codemirror_mode": {
    "name": "ipython",
    "version": 2
   },
   "file_extension": ".py",
   "mimetype": "text/x-python",
   "name": "python",
   "nbconvert_exporter": "python",
   "pygments_lexer": "ipython2",
   "version": "2.7.6"
  }
 },
 "nbformat": 4,
 "nbformat_minor": 0
}
